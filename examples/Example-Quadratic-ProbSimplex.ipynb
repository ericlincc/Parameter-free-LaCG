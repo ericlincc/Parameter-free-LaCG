{
 "cells": [
  {
   "cell_type": "markdown",
   "metadata": {},
   "source": [
    "In this Jupyter notebook, we provide an example starting code for using our `pflacg` module. This is intended to serve as an instructional example and not as a proof of performance as shown in the paper.\n",
    "\n",
    "Please read `README.md` before continuing."
   ]
  },
  {
   "cell_type": "code",
   "execution_count": 1,
   "metadata": {},
   "outputs": [],
   "source": [
    "import logging\n",
    "\n",
    "import matplotlib.pyplot as plt\n",
    "import numpy as np\n",
    "\n",
    "import pflacg\n",
    "\n",
    "\n",
    "# Configure logging\n",
    "logging.basicConfig(\n",
    "    level=logging.INFO,\n",
    "    format=\"%(levelname)s :: %(asctime)s :: %(message)s\",\n",
    "    datefmt=\"%Y-%m-%d %H:%M:%S\",\n",
    ")"
   ]
  },
  {
   "cell_type": "code",
   "execution_count": 2,
   "metadata": {},
   "outputs": [],
   "source": [
    "# Random seeding numpy for reproducbility. (Optional)\n",
    "RANDOM_SEED = 1\n",
    "np.random.seed(RANDOM_SEED)"
   ]
  },
  {
   "cell_type": "markdown",
   "metadata": {},
   "source": [
    "---------"
   ]
  },
  {
   "cell_type": "markdown",
   "metadata": {},
   "source": [
    "# Experiment Setups"
   ]
  },
  {
   "cell_type": "code",
   "execution_count": 3,
   "metadata": {},
   "outputs": [],
   "source": [
    "# Instantiating exit criterion object for determine when to halt an algorithm run.\n",
    "exit_criterion = pflacg.ExitCriterion(\n",
    "    \"SWG\",\n",
    "    1.0e-4,\n",
    "    criterion_reference=0.0,\n",
    "    max_time=60.0,\n",
    "    max_iter=1000\n",
    ")"
   ]
  },
  {
   "cell_type": "code",
   "execution_count": 4,
   "metadata": {},
   "outputs": [],
   "source": [
    "dimension = 10\n",
    "feasible_region = pflacg.ProbabilitySimplexPolytope(dimension)"
   ]
  },
  {
   "cell_type": "code",
   "execution_count": 5,
   "metadata": {},
   "outputs": [
    {
     "name": "stdout",
     "output_type": "stream",
     "text": [
      "strong convexity paramter = 1.0130259160224173\n",
      "smoothness parameter = 26.14007114799589\n"
     ]
    }
   ],
   "source": [
    "# Constructing a random quadratic function object as described in Appendix D.\n",
    "matrix = np.random.rand(dimension, dimension)\n",
    "M = matrix.T.dot(matrix)\n",
    "M = M + np.identity(dimension)\n",
    "b = np.random.rand(dimension)\n",
    "objective_function = pflacg.Quadratic(dimension, M, b)\n",
    "\n",
    "\n",
    "# Constructing the probability simplex polytope object.\n",
    "feasible_region = pflacg.ProbabilitySimplexPolytope(dimension)\n",
    "\n",
    "# Constructing an initial point object (Optional)\n",
    "point_initial = pflacg.Point(\n",
    "    feasible_region.initial_point,\n",
    "    (1,),\n",
    "    (feasible_region.initial_point,)\n",
    ")\n",
    "\n",
    "# Displaying the objective function paramter for reference.\n",
    "print(f\"strong convexity paramter = {objective_function.Mu}\")\n",
    "print(f\"smoothness parameter = {objective_function.L}\")"
   ]
  },
  {
   "cell_type": "markdown",
   "metadata": {},
   "source": [
    "----------\n",
    "\n",
    "# Algorithms"
   ]
  },
  {
   "cell_type": "code",
   "execution_count": 6,
   "metadata": {},
   "outputs": [
    {
     "name": "stderr",
     "output_type": "stream",
     "text": [
      "INFO :: 2021-02-10 17:20:29 :: Compiling argmin_quadratic_over_active_set with numba jit.\n",
      "INFO :: 2021-02-10 17:20:37 :: Compiling argmin_quadratic_over_active_set with numba jit done.\n"
     ]
    }
   ],
   "source": [
    "# Instantiating PFLaCG algorithm object.\n",
    "PFLaCG = pflacg.ParameterFreeLaCG(fw_variant=\"AFW\", iter_sync=False, recompile_jit=True)"
   ]
  },
  {
   "cell_type": "code",
   "execution_count": 7,
   "metadata": {},
   "outputs": [],
   "source": [
    "# Instantiating other CG algorithm objects.\n",
    "AFW_algorithm = pflacg.FrankWolfe(\"AFW\", \"line_search\")\n",
    "PFW_algorithm = pflacg.FrankWolfe(\"PFW\", \"line_search\")"
   ]
  },
  {
   "cell_type": "markdown",
   "metadata": {},
   "source": [
    "----------\n",
    "\n",
    "# Running the algorithms"
   ]
  },
  {
   "cell_type": "code",
   "execution_count": 8,
   "metadata": {},
   "outputs": [
    {
     "name": "stderr",
     "output_type": "stream",
     "text": [
      "INFO :: 2021-02-10 17:20:41 :: Running PFLaCG: iteration = 0, duration = 0.0000000000, f_val = 2.6260050690, dual_gap = 0.0000000000, SWG = 2.4152521296\n",
      "INFO :: 2021-02-10 17:20:42 :: SWG target accuracy = 1.2076260647845558\n",
      "INFO :: 2021-02-10 17:20:42 :: Restarting ACC\n",
      "INFO :: 2021-02-10 17:20:42 :: Creating ACC process with set size 1\n",
      "INFO :: 2021-02-10 17:20:42 :: Running FAFW\n",
      "INFO :: 2021-02-10 17:20:42 :: FAFW returned at global_iter = 1\n",
      "INFO :: 2021-02-10 17:20:42 :: Acquiring buffer\n",
      "INFO :: 2021-02-10 17:20:42 :: FAFW did better\n",
      "INFO :: 2021-02-10 17:20:42 :: Outputting\n",
      "INFO :: 2021-02-10 17:20:42 :: Running PFLaCG: iteration = 1, duration = 0.0537793636, f_val = 2.0182694818, dual_gap = 0.0000000000, SWG = 0.9468622239\n",
      "INFO :: 2021-02-10 17:20:42 :: SWG target accuracy = 0.4734311119606196\n",
      "INFO :: 2021-02-10 17:20:42 :: Restarting ACC\n",
      "INFO :: 2021-02-10 17:20:42 :: Creating ACC process with set size 2\n",
      "INFO :: 2021-02-10 17:20:42 :: Starting ACC process\n",
      "INFO :: 2021-02-10 17:20:42 :: Running FAFW\n",
      "INFO :: 2021-02-10 17:20:42 :: FAFW returned at global_iter = 4\n",
      "INFO :: 2021-02-10 17:20:42 :: Acquiring buffer\n",
      "INFO :: 2021-02-10 17:20:42 :: FAFW did better\n",
      "INFO :: 2021-02-10 17:20:42 :: Terminating ACC\n",
      "INFO :: 2021-02-10 17:20:42 :: Outputting\n",
      "INFO :: 2021-02-10 17:20:42 :: Running PFLaCG: iteration = 4, duration = 0.0882518291, f_val = 1.7042228068, dual_gap = 0.0000000000, SWG = 0.4012151336\n",
      "INFO :: 2021-02-10 17:20:42 :: SWG target accuracy = 0.2006075668168683\n",
      "INFO :: 2021-02-10 17:20:42 :: Restarting ACC\n",
      "INFO :: 2021-02-10 17:20:42 :: Creating ACC process with set size 5\n",
      "INFO :: 2021-02-10 17:20:42 :: Starting ACC process\n",
      "INFO :: 2021-02-10 17:20:42 :: Running FAFW\n",
      "INFO :: 2021-02-10 17:20:42 :: FAFW returned at global_iter = 6\n",
      "INFO :: 2021-02-10 17:20:42 :: Acquiring buffer\n",
      "INFO :: 2021-02-10 17:20:42 :: FAFW did better\n",
      "INFO :: 2021-02-10 17:20:42 :: Terminating ACC\n",
      "INFO :: 2021-02-10 17:20:42 :: Outputting\n",
      "INFO :: 2021-02-10 17:20:42 :: Running PFLaCG: iteration = 6, duration = 0.1195077896, f_val = 1.6784408658, dual_gap = 0.0000000000, SWG = 0.1273297565\n",
      "INFO :: 2021-02-10 17:20:42 :: SWG target accuracy = 0.06366487823062528\n",
      "INFO :: 2021-02-10 17:20:42 :: Restarting ACC\n",
      "INFO :: 2021-02-10 17:20:42 :: Creating ACC process with set size 6\n",
      "INFO :: 2021-02-10 17:20:42 :: Starting ACC process\n",
      "INFO :: 2021-02-10 17:20:42 :: Running FAFW\n",
      "INFO :: 2021-02-10 17:20:42 :: FAFW returned at global_iter = 7\n",
      "INFO :: 2021-02-10 17:20:42 :: Acquiring buffer\n",
      "INFO :: 2021-02-10 17:20:42 :: FAFW did better\n",
      "INFO :: 2021-02-10 17:20:42 :: Terminating ACC\n",
      "INFO :: 2021-02-10 17:20:42 :: Outputting\n",
      "INFO :: 2021-02-10 17:20:42 :: Running PFLaCG: iteration = 7, duration = 0.1514880657, f_val = 1.6758077234, dual_gap = 0.0000000000, SWG = 0.0454876517\n",
      "INFO :: 2021-02-10 17:20:42 :: SWG target accuracy = 0.022743825847464816\n",
      "INFO :: 2021-02-10 17:20:42 :: Restarting ACC\n",
      "INFO :: 2021-02-10 17:20:42 :: Creating ACC process with set size 6\n",
      "INFO :: 2021-02-10 17:20:42 :: Starting ACC process\n",
      "INFO :: 2021-02-10 17:20:42 :: Running FAFW\n",
      "INFO :: 2021-02-10 17:20:42 :: FAFW returned at global_iter = 8\n",
      "INFO :: 2021-02-10 17:20:42 :: Acquiring buffer\n",
      "INFO :: 2021-02-10 17:20:42 :: FAFW did better\n",
      "INFO :: 2021-02-10 17:20:42 :: Terminating ACC\n",
      "INFO :: 2021-02-10 17:20:42 :: Outputting\n",
      "INFO :: 2021-02-10 17:20:42 :: Running PFLaCG: iteration = 8, duration = 0.1824350357, f_val = 1.6754835910, dual_gap = 0.0000000000, SWG = 0.0173210137\n",
      "INFO :: 2021-02-10 17:20:42 :: SWG target accuracy = 0.008660506864120565\n",
      "INFO :: 2021-02-10 17:20:42 :: Restarting ACC\n",
      "INFO :: 2021-02-10 17:20:42 :: Creating ACC process with set size 6\n",
      "INFO :: 2021-02-10 17:20:42 :: Starting ACC process\n",
      "INFO :: 2021-02-10 17:20:42 :: Running FAFW\n",
      "INFO :: 2021-02-10 17:20:42 :: FAFW returned at global_iter = 10\n",
      "INFO :: 2021-02-10 17:20:42 :: Acquiring buffer\n",
      "INFO :: 2021-02-10 17:20:42 :: FAFW did better\n",
      "INFO :: 2021-02-10 17:20:42 :: Terminating ACC\n",
      "INFO :: 2021-02-10 17:20:42 :: Outputting\n",
      "INFO :: 2021-02-10 17:20:42 :: Running PFLaCG: iteration = 10, duration = 0.2145020962, f_val = 1.6754438756, dual_gap = 0.0000000000, SWG = 0.0053884841\n",
      "INFO :: 2021-02-10 17:20:42 :: SWG target accuracy = 0.002694242065180763\n",
      "INFO :: 2021-02-10 17:20:42 :: Restarting ACC\n",
      "INFO :: 2021-02-10 17:20:42 :: Creating ACC process with set size 6\n",
      "INFO :: 2021-02-10 17:20:42 :: Starting ACC process\n",
      "INFO :: 2021-02-10 17:20:42 :: Running FAFW\n",
      "INFO :: 2021-02-10 17:20:42 :: FAFW returned at global_iter = 13\n",
      "INFO :: 2021-02-10 17:20:42 :: Acquiring buffer\n",
      "INFO :: 2021-02-10 17:20:42 :: FAFW did better\n",
      "INFO :: 2021-02-10 17:20:42 :: Terminating ACC\n",
      "INFO :: 2021-02-10 17:20:42 :: Outputting\n",
      "INFO :: 2021-02-10 17:20:42 :: Running PFLaCG: iteration = 13, duration = 0.2477612495, f_val = 1.6754385062, dual_gap = 0.0000000000, SWG = 0.0020688586\n",
      "INFO :: 2021-02-10 17:20:42 :: SWG target accuracy = 0.0010344293116764103\n",
      "INFO :: 2021-02-10 17:20:42 :: Restarting ACC\n",
      "INFO :: 2021-02-10 17:20:42 :: Creating ACC process with set size 6\n",
      "INFO :: 2021-02-10 17:20:42 :: Starting ACC process\n",
      "INFO :: 2021-02-10 17:20:42 :: Running FAFW\n",
      "INFO :: 2021-02-10 17:20:42 :: FAFW returned at global_iter = 14\n",
      "INFO :: 2021-02-10 17:20:42 :: Acquiring buffer\n",
      "INFO :: 2021-02-10 17:20:42 :: FAFW did better\n",
      "INFO :: 2021-02-10 17:20:42 :: Terminating ACC\n",
      "INFO :: 2021-02-10 17:20:42 :: Outputting\n",
      "INFO :: 2021-02-10 17:20:42 :: Running PFLaCG: iteration = 14, duration = 0.2791893482, f_val = 1.6754380734, dual_gap = 0.0000000000, SWG = 0.0009710245\n",
      "INFO :: 2021-02-10 17:20:42 :: SWG target accuracy = 0.00048551226770499056\n",
      "INFO :: 2021-02-10 17:20:42 :: Restarting ACC\n",
      "INFO :: 2021-02-10 17:20:42 :: Creating ACC process with set size 6\n",
      "INFO :: 2021-02-10 17:20:42 :: Starting ACC process\n",
      "INFO :: 2021-02-10 17:20:42 :: Running FAFW\n",
      "INFO :: 2021-02-10 17:20:42 :: FAFW returned at global_iter = 16\n",
      "INFO :: 2021-02-10 17:20:42 :: Acquiring buffer\n",
      "INFO :: 2021-02-10 17:20:42 :: FAFW did better\n",
      "INFO :: 2021-02-10 17:20:42 :: Terminating ACC\n",
      "INFO :: 2021-02-10 17:20:42 :: Outputting\n",
      "INFO :: 2021-02-10 17:20:42 :: Running PFLaCG: iteration = 16, duration = 0.3111627102, f_val = 1.6754378826, dual_gap = 0.0000000000, SWG = 0.0001875432\n",
      "INFO :: 2021-02-10 17:20:42 :: SWG target accuracy = 9.37716106281794e-05\n",
      "INFO :: 2021-02-10 17:20:42 :: Restarting ACC\n",
      "INFO :: 2021-02-10 17:20:42 :: Creating ACC process with set size 6\n",
      "INFO :: 2021-02-10 17:20:42 :: Starting ACC process\n",
      "INFO :: 2021-02-10 17:20:42 :: Running FAFW\n",
      "INFO :: 2021-02-10 17:20:42 :: FAFW returned at global_iter = 17\n",
      "INFO :: 2021-02-10 17:20:42 :: Acquiring buffer\n",
      "INFO :: 2021-02-10 17:20:42 :: FAFW did better\n",
      "INFO :: 2021-02-10 17:20:42 :: Terminating ACC\n",
      "INFO :: 2021-02-10 17:20:42 :: Outputting\n",
      "INFO :: 2021-02-10 17:20:42 :: Running PFLaCG: iteration = 17, duration = 0.3443605900, f_val = 1.6754378784, dual_gap = 0.0000000000, SWG = 0.0000674118\n"
     ]
    }
   ],
   "source": [
    "# Running PFLaCG.\n",
    "PFLaCG_run = PFLaCG.run(objective_function, feasible_region, exit_criterion, point_initial)"
   ]
  },
  {
   "cell_type": "code",
   "execution_count": 9,
   "metadata": {
    "scrolled": true
   },
   "outputs": [
    {
     "name": "stderr",
     "output_type": "stream",
     "text": [
      "INFO :: 2021-02-10 17:20:50 :: Running AFW(2.4152521295691116): iteration = 0.0000000000, duration = 0.0000000000,f_val = 2.6260050690, dual_gap = 2.4152521296, strong_wolfe_gap = 2.4152521296\n",
      "INFO :: 2021-02-10 17:20:50 :: Running AFW: iteration = 1, duration = 0.0010616779, f_val = 2.0182694818, dual_gap = 2.4152521296, strong_wolfe_gap = 2.4152521296\n",
      "INFO :: 2021-02-10 17:20:50 :: Running AFW: iteration = 2, duration = 0.0018372536, f_val = 1.8565267847, dual_gap = 0.9468622239, strong_wolfe_gap = 0.9468622239\n",
      "INFO :: 2021-02-10 17:20:50 :: Running AFW: iteration = 3, duration = 0.0029160976, f_val = 1.7422113986, dual_gap = 0.7640912821, strong_wolfe_gap = 0.7818806344\n",
      "INFO :: 2021-02-10 17:20:50 :: Running AFW: iteration = 4, duration = 0.0046606064, f_val = 1.7042228068, dual_gap = 0.4422728516, strong_wolfe_gap = 0.5738091014\n",
      "INFO :: 2021-02-10 17:20:50 :: Running AFW: iteration = 5, duration = 0.0054681301, f_val = 1.6905340733, dual_gap = 0.2366945064, strong_wolfe_gap = 0.4012151336\n",
      "INFO :: 2021-02-10 17:20:50 :: Running AFW: iteration = 6, duration = 0.0064587593, f_val = 1.6784408658, dual_gap = 0.0775402022, strong_wolfe_gap = 0.2656796700\n",
      "INFO :: 2021-02-10 17:20:50 :: Running AFW: iteration = 7, duration = 0.0069675446, f_val = 1.6758077234, dual_gap = 0.0325559512, strong_wolfe_gap = 0.1273297565\n",
      "INFO :: 2021-02-10 17:20:50 :: Running AFW: iteration = 8, duration = 0.0078685284, f_val = 1.6754835910, dual_gap = 0.0113197139, strong_wolfe_gap = 0.0454876517\n",
      "INFO :: 2021-02-10 17:20:50 :: Running AFW: iteration = 9, duration = 0.0085496902, f_val = 1.6754547363, dual_gap = 0.0069044089, strong_wolfe_gap = 0.0173210137\n",
      "INFO :: 2021-02-10 17:20:50 :: Running AFW: iteration = 10, duration = 0.0094640255, f_val = 1.6754438756, dual_gap = 0.0051451178, strong_wolfe_gap = 0.0106134438\n",
      "INFO :: 2021-02-10 17:20:50 :: Running AFW: iteration = 11, duration = 0.0099515915, f_val = 1.6754415322, dual_gap = 0.0024327860, strong_wolfe_gap = 0.0053884841\n",
      "INFO :: 2021-02-10 17:20:50 :: Running AFW: iteration = 12, duration = 0.0104534626, f_val = 1.6754393461, dual_gap = 0.0021003339, strong_wolfe_gap = 0.0049790423\n",
      "INFO :: 2021-02-10 17:20:50 :: Running AFW: iteration = 13, duration = 0.0110907555, f_val = 1.6754385062, dual_gap = 0.0016223091, strong_wolfe_gap = 0.0027864478\n",
      "INFO :: 2021-02-10 17:20:50 :: Running AFW: iteration = 14, duration = 0.0124323368, f_val = 1.6754380734, dual_gap = 0.0011888669, strong_wolfe_gap = 0.0020688586\n",
      "INFO :: 2021-02-10 17:20:50 :: Running AFW: iteration = 15, duration = 0.0131199360, f_val = 1.6754379393, dual_gap = 0.0002629936, strong_wolfe_gap = 0.0009710245\n",
      "INFO :: 2021-02-10 17:20:50 :: Running AFW: iteration = 16, duration = 0.0137896538, f_val = 1.6754378826, dual_gap = 0.0001835815, strong_wolfe_gap = 0.0006380291\n",
      "INFO :: 2021-02-10 17:20:50 :: Running AFW: iteration = 17, duration = 0.0145728588, f_val = 1.6754378784, dual_gap = 0.0001149801, strong_wolfe_gap = 0.0001875432\n",
      "INFO :: 2021-02-10 17:20:50 :: Running PFW(2.4152521295691116): iteration = 0.0000000000, duration = 0.0000000000,f_val = 2.6260050690, dual_gap = 2.4152521296, strong_wolfe_gap = 2.4152521296\n",
      "INFO :: 2021-02-10 17:20:50 :: Running PFW: iteration = 1, duration = 0.0006613731, f_val = 2.0182694818, dual_gap = 2.4152521296, strong_wolfe_gap = 2.4152521296\n",
      "INFO :: 2021-02-10 17:20:50 :: Running PFW: iteration = 2, duration = 0.0014691353, f_val = 1.9087339778, dual_gap = 0.9468622239, strong_wolfe_gap = 0.9468622239\n",
      "INFO :: 2021-02-10 17:20:50 :: Running PFW: iteration = 3, duration = 0.0022733212, f_val = 1.7392813088, dual_gap = 0.7623651246, strong_wolfe_gap = 1.0520000538\n",
      "INFO :: 2021-02-10 17:20:50 :: Running PFW: iteration = 4, duration = 0.0032582283, f_val = 1.7099868324, dual_gap = 0.4598584432, strong_wolfe_gap = 0.5060313202\n",
      "INFO :: 2021-02-10 17:20:50 :: Running PFW: iteration = 5, duration = 0.0039463043, f_val = 1.6842415758, dual_gap = 0.2562209333, strong_wolfe_gap = 0.4008964706\n",
      "INFO :: 2021-02-10 17:20:50 :: Running PFW: iteration = 6, duration = 0.0048909187, f_val = 1.6759326240, dual_gap = 0.1773571315, strong_wolfe_gap = 0.2692682536\n",
      "INFO :: 2021-02-10 17:20:50 :: Running PFW: iteration = 7, duration = 0.0058438778, f_val = 1.6756004607, dual_gap = 0.0213379341, strong_wolfe_gap = 0.0510233891\n",
      "INFO :: 2021-02-10 17:20:50 :: Running PFW: iteration = 8, duration = 0.0065317154, f_val = 1.6754794320, dual_gap = 0.0159323714, strong_wolfe_gap = 0.0325258513\n",
      "INFO :: 2021-02-10 17:20:50 :: Running PFW: iteration = 9, duration = 0.0072269440, f_val = 1.6754442700, dual_gap = 0.0069990415, strong_wolfe_gap = 0.0151540422\n",
      "INFO :: 2021-02-10 17:20:50 :: Running PFW: iteration = 10, duration = 0.0082895756, f_val = 1.6754395920, dual_gap = 0.0023874707, strong_wolfe_gap = 0.0060689407\n",
      "INFO :: 2021-02-10 17:20:50 :: Running PFW: iteration = 11, duration = 0.0093488693, f_val = 1.6754383940, dual_gap = 0.0022073769, strong_wolfe_gap = 0.0030641926\n",
      "INFO :: 2021-02-10 17:20:50 :: Running PFW: iteration = 12, duration = 0.0100293159, f_val = 1.6754381687, dual_gap = 0.0006466588, strong_wolfe_gap = 0.0013579274\n",
      "INFO :: 2021-02-10 17:20:50 :: Running PFW: iteration = 13, duration = 0.0110714436, f_val = 1.6754379409, dual_gap = 0.0008105153, strong_wolfe_gap = 0.0014493485\n",
      "INFO :: 2021-02-10 17:20:50 :: Running PFW: iteration = 14, duration = 0.0124151707, f_val = 1.6754379054, dual_gap = 0.0001157249, strong_wolfe_gap = 0.0004706611\n",
      "INFO :: 2021-02-10 17:20:50 :: Running PFW: iteration = 15, duration = 0.0134646893, f_val = 1.6754378849, dual_gap = 0.0002049983, strong_wolfe_gap = 0.0004230995\n",
      "INFO :: 2021-02-10 17:20:50 :: Running PFW: iteration = 16, duration = 0.0141999722, f_val = 1.6754378785, dual_gap = 0.0000695554, strong_wolfe_gap = 0.0002224269\n"
     ]
    }
   ],
   "source": [
    "# Running other CG algorithms.\n",
    "AFW_run = AFW_algorithm.run(objective_function, feasible_region, exit_criterion, point_initial)\n",
    "PFW_run = PFW_algorithm.run(objective_function, feasible_region, exit_criterion, point_initial)"
   ]
  },
  {
   "cell_type": "markdown",
   "metadata": {},
   "source": [
    "-----------\n",
    "# Displaying the run results\n",
    "\n",
    "The run results are returned as a list of tuples which each tuple represents `(iteration, duration, f_val, wolfe_gap, strong_wolfe_gap)`. `wolfe_gap` and `strong_wolfe_gap` are displayed if available otherwise 0."
   ]
  },
  {
   "cell_type": "code",
   "execution_count": 10,
   "metadata": {
    "scrolled": true
   },
   "outputs": [
    {
     "name": "stdout",
     "output_type": "stream",
     "text": [
      "Run result for PFLaCGL:\n",
      "(0, 0.0, 2.626005068997321, 0.0, 2.4152521295691116)\n",
      "(1, 0.05377936363220215, 2.0182694818003704, 0.0, 0.9468622239212392)\n",
      "(4, 0.08825182914733887, 1.7042228067751684, 0.0, 0.4012151336337366)\n",
      "(6, 0.1195077896118164, 1.6784408658109393, 0.0, 0.12732975646125055)\n",
      "(7, 0.1514880657196045, 1.6758077234278044, 0.0, 0.04548765169492963)\n",
      "(8, 0.1824350357055664, 1.675483590953398, 0.0, 0.01732101372824113)\n",
      "(10, 0.21450209617614746, 1.6754438755871621, 0.0, 0.005388484130361526)\n",
      "(13, 0.24776124954223633, 1.6754385061906976, 0.0, 0.0020688586233528206)\n",
      "(14, 0.2791893482208252, 1.6754380734069496, 0.0, 0.0009710245354099811)\n",
      "(16, 0.31116271018981934, 1.6754378826072402, 0.0, 0.0001875432212563588)\n",
      "(17, 0.3443605899810791, 1.6754378783799355, 0.0, 6.741179333324965e-05)\n"
     ]
    }
   ],
   "source": [
    "print(\"Run result for PFLaCGL:\")\n",
    "for run_status in PFLaCG_run:\n",
    "    print(run_status)"
   ]
  },
  {
   "cell_type": "code",
   "execution_count": null,
   "metadata": {},
   "outputs": [],
   "source": []
  }
 ],
 "metadata": {
  "kernelspec": {
   "display_name": "Python 3",
   "language": "python",
   "name": "python3"
  },
  "language_info": {
   "codemirror_mode": {
    "name": "ipython",
    "version": 3
   },
   "file_extension": ".py",
   "mimetype": "text/x-python",
   "name": "python",
   "nbconvert_exporter": "python",
   "pygments_lexer": "ipython3",
   "version": "3.8.5"
  }
 },
 "nbformat": 4,
 "nbformat_minor": 4
}
